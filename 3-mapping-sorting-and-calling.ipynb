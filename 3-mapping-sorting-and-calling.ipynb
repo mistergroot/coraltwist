{
 "cells": [
  {
   "cell_type": "markdown",
   "metadata": {},
   "source": [
    "## 3. Mapping, sorting, and calling trimmed data\n",
    "\n",
    "Using [NextGenMap](https://github.com/Cibiv/NextGenMap) for mapping, [samtools](https://github.com/samtools/samtools) for SAM to BAM conversion, and [Sambamba](https://github.com/biod/sambamba) for sorting. One of our individuals is in colorspace (ABI SOLiD data) and needed to be mapped with [BWA](https://github.com/lh3/bwa) instead of NextGenMap.\n",
    "\n",
    "After this, we will use [FreeBayes](https://github.com/ekg/freebayes) for variant detection on the mapped and sorted files."
   ]
  },
  {
   "cell_type": "code",
   "execution_count": 3,
   "metadata": {},
   "outputs": [],
   "source": [
    "##!conda install -c bioconda samtools minimap2 sambamba bwa\n",
    "##!conda install -c anaconda openssl=1.0.2\n",
    "import os\n",
    "import pandas as pd"
   ]
  },
  {
   "cell_type": "code",
   "execution_count": 1,
   "metadata": {},
   "outputs": [
    {
     "name": "stdout",
     "output_type": "stream",
     "text": [
      "CPU times: user 125 ms, sys: 46.7 ms, total: 172 ms\n",
      "Wall time: 19.8 s\n"
     ]
    }
   ],
   "source": [
    "%time !gunzip < ./references/Adig.fa.gz > ./references/Adig.fa"
   ]
  },
  {
   "cell_type": "markdown",
   "metadata": {},
   "source": [
    "Building a regular index for the illumina data:"
   ]
  },
  {
   "cell_type": "code",
   "execution_count": null,
   "metadata": {},
   "outputs": [],
   "source": [
    "!samtools faidx ./references/Adig.fa"
   ]
  },
  {
   "cell_type": "code",
   "execution_count": null,
   "metadata": {},
   "outputs": [],
   "source": [
    "!bwa index ./references/Adig.fa"
   ]
  },
  {
   "cell_type": "code",
   "execution_count": 4,
   "metadata": {},
   "outputs": [
    {
     "data": {
      "text/html": [
       "<div>\n",
       "<style scoped>\n",
       "    .dataframe tbody tr th:only-of-type {\n",
       "        vertical-align: middle;\n",
       "    }\n",
       "\n",
       "    .dataframe tbody tr th {\n",
       "        vertical-align: top;\n",
       "    }\n",
       "\n",
       "    .dataframe thead th {\n",
       "        text-align: right;\n",
       "    }\n",
       "</style>\n",
       "<table border=\"1\" class=\"dataframe\">\n",
       "  <thead>\n",
       "    <tr style=\"text-align: right;\">\n",
       "      <th></th>\n",
       "      <th>Organism</th>\n",
       "      <th>Run</th>\n",
       "      <th>BioProject</th>\n",
       "      <th>geo_loc_name</th>\n",
       "      <th>MBases</th>\n",
       "      <th>MBytes</th>\n",
       "    </tr>\n",
       "  </thead>\n",
       "  <tbody>\n",
       "    <tr>\n",
       "      <th>0</th>\n",
       "      <td>Acropora cervicornis</td>\n",
       "      <td>SRR7236034</td>\n",
       "      <td>PRJNA473816</td>\n",
       "      <td>Belize</td>\n",
       "      <td>3162</td>\n",
       "      <td>1579</td>\n",
       "    </tr>\n",
       "    <tr>\n",
       "      <th>1</th>\n",
       "      <td>Acropora cervicornis</td>\n",
       "      <td>SRR7236031</td>\n",
       "      <td>PRJNA473816</td>\n",
       "      <td>Belize</td>\n",
       "      <td>3302</td>\n",
       "      <td>1655</td>\n",
       "    </tr>\n",
       "    <tr>\n",
       "      <th>2</th>\n",
       "      <td>Acropora cervicornis</td>\n",
       "      <td>SRR7236027</td>\n",
       "      <td>PRJNA473816</td>\n",
       "      <td>Belize</td>\n",
       "      <td>3424</td>\n",
       "      <td>1718</td>\n",
       "    </tr>\n",
       "    <tr>\n",
       "      <th>3</th>\n",
       "      <td>Acropora cervicornis</td>\n",
       "      <td>SRR7236032</td>\n",
       "      <td>PRJNA473816</td>\n",
       "      <td>Belize</td>\n",
       "      <td>3621</td>\n",
       "      <td>1811</td>\n",
       "    </tr>\n",
       "    <tr>\n",
       "      <th>4</th>\n",
       "      <td>Acropora cervicornis</td>\n",
       "      <td>SRR7236033</td>\n",
       "      <td>PRJNA473816</td>\n",
       "      <td>Belize</td>\n",
       "      <td>4812</td>\n",
       "      <td>2363</td>\n",
       "    </tr>\n",
       "    <tr>\n",
       "      <th>5</th>\n",
       "      <td>Acropora cervicornis</td>\n",
       "      <td>SRR7236028</td>\n",
       "      <td>PRJNA473816</td>\n",
       "      <td>Belize</td>\n",
       "      <td>4960</td>\n",
       "      <td>2481</td>\n",
       "    </tr>\n",
       "    <tr>\n",
       "      <th>6</th>\n",
       "      <td>Acropora cervicornis</td>\n",
       "      <td>SRR7235996</td>\n",
       "      <td>PRJNA473816</td>\n",
       "      <td>Curacao</td>\n",
       "      <td>3841</td>\n",
       "      <td>1915</td>\n",
       "    </tr>\n",
       "    <tr>\n",
       "      <th>7</th>\n",
       "      <td>Acropora cervicornis</td>\n",
       "      <td>SRR7236030</td>\n",
       "      <td>PRJNA473816</td>\n",
       "      <td>Curacao</td>\n",
       "      <td>3930</td>\n",
       "      <td>1979</td>\n",
       "    </tr>\n",
       "    <tr>\n",
       "      <th>8</th>\n",
       "      <td>Acropora cervicornis</td>\n",
       "      <td>SRR7236037</td>\n",
       "      <td>PRJNA473816</td>\n",
       "      <td>Curacao</td>\n",
       "      <td>4270</td>\n",
       "      <td>2122</td>\n",
       "    </tr>\n",
       "    <tr>\n",
       "      <th>9</th>\n",
       "      <td>Acropora cervicornis</td>\n",
       "      <td>SRR7236036</td>\n",
       "      <td>PRJNA473816</td>\n",
       "      <td>Curacao</td>\n",
       "      <td>4746</td>\n",
       "      <td>2332</td>\n",
       "    </tr>\n",
       "    <tr>\n",
       "      <th>10</th>\n",
       "      <td>Acropora cervicornis</td>\n",
       "      <td>SRR7236029</td>\n",
       "      <td>PRJNA473816</td>\n",
       "      <td>Curacao</td>\n",
       "      <td>5114</td>\n",
       "      <td>2514</td>\n",
       "    </tr>\n",
       "    <tr>\n",
       "      <th>11</th>\n",
       "      <td>Acropora cervicornis</td>\n",
       "      <td>SRR7235990</td>\n",
       "      <td>PRJNA473816</td>\n",
       "      <td>USA: Florida</td>\n",
       "      <td>2923</td>\n",
       "      <td>1449</td>\n",
       "    </tr>\n",
       "    <tr>\n",
       "      <th>12</th>\n",
       "      <td>Acropora cervicornis</td>\n",
       "      <td>SRR7235992</td>\n",
       "      <td>PRJNA473816</td>\n",
       "      <td>USA: Florida</td>\n",
       "      <td>3298</td>\n",
       "      <td>1630</td>\n",
       "    </tr>\n",
       "    <tr>\n",
       "      <th>13</th>\n",
       "      <td>Acropora cervicornis</td>\n",
       "      <td>SRR7235994</td>\n",
       "      <td>PRJNA473816</td>\n",
       "      <td>USA: Florida</td>\n",
       "      <td>3908</td>\n",
       "      <td>1926</td>\n",
       "    </tr>\n",
       "    <tr>\n",
       "      <th>14</th>\n",
       "      <td>Acropora cervicornis</td>\n",
       "      <td>SRR7235991</td>\n",
       "      <td>PRJNA473816</td>\n",
       "      <td>USA: Florida</td>\n",
       "      <td>4183</td>\n",
       "      <td>2053</td>\n",
       "    </tr>\n",
       "    <tr>\n",
       "      <th>15</th>\n",
       "      <td>Acropora cervicornis</td>\n",
       "      <td>SRR7235993</td>\n",
       "      <td>PRJNA473816</td>\n",
       "      <td>USA: Florida</td>\n",
       "      <td>4494</td>\n",
       "      <td>2263</td>\n",
       "    </tr>\n",
       "    <tr>\n",
       "      <th>17</th>\n",
       "      <td>Acropora cervicornis</td>\n",
       "      <td>SRR7235989</td>\n",
       "      <td>PRJNA473816</td>\n",
       "      <td>Virgin Islands</td>\n",
       "      <td>3358</td>\n",
       "      <td>1724</td>\n",
       "    </tr>\n",
       "    <tr>\n",
       "      <th>18</th>\n",
       "      <td>Acropora cervicornis</td>\n",
       "      <td>SRR7236022</td>\n",
       "      <td>PRJNA473816</td>\n",
       "      <td>Virgin Islands</td>\n",
       "      <td>4232</td>\n",
       "      <td>2102</td>\n",
       "    </tr>\n",
       "    <tr>\n",
       "      <th>19</th>\n",
       "      <td>Acropora cervicornis</td>\n",
       "      <td>SRR7236021</td>\n",
       "      <td>PRJNA473816</td>\n",
       "      <td>Virgin Islands</td>\n",
       "      <td>4247</td>\n",
       "      <td>2139</td>\n",
       "    </tr>\n",
       "    <tr>\n",
       "      <th>20</th>\n",
       "      <td>Acropora cervicornis</td>\n",
       "      <td>SRR7235998</td>\n",
       "      <td>PRJNA473816</td>\n",
       "      <td>Virgin Islands</td>\n",
       "      <td>4580</td>\n",
       "      <td>2273</td>\n",
       "    </tr>\n",
       "  </tbody>\n",
       "</table>\n",
       "</div>"
      ],
      "text/plain": [
       "                Organism         Run   BioProject    geo_loc_name  MBases  \\\n",
       "0   Acropora cervicornis  SRR7236034  PRJNA473816          Belize    3162   \n",
       "1   Acropora cervicornis  SRR7236031  PRJNA473816          Belize    3302   \n",
       "2   Acropora cervicornis  SRR7236027  PRJNA473816          Belize    3424   \n",
       "3   Acropora cervicornis  SRR7236032  PRJNA473816          Belize    3621   \n",
       "4   Acropora cervicornis  SRR7236033  PRJNA473816          Belize    4812   \n",
       "5   Acropora cervicornis  SRR7236028  PRJNA473816          Belize    4960   \n",
       "6   Acropora cervicornis  SRR7235996  PRJNA473816         Curacao    3841   \n",
       "7   Acropora cervicornis  SRR7236030  PRJNA473816         Curacao    3930   \n",
       "8   Acropora cervicornis  SRR7236037  PRJNA473816         Curacao    4270   \n",
       "9   Acropora cervicornis  SRR7236036  PRJNA473816         Curacao    4746   \n",
       "10  Acropora cervicornis  SRR7236029  PRJNA473816         Curacao    5114   \n",
       "11  Acropora cervicornis  SRR7235990  PRJNA473816    USA: Florida    2923   \n",
       "12  Acropora cervicornis  SRR7235992  PRJNA473816    USA: Florida    3298   \n",
       "13  Acropora cervicornis  SRR7235994  PRJNA473816    USA: Florida    3908   \n",
       "14  Acropora cervicornis  SRR7235991  PRJNA473816    USA: Florida    4183   \n",
       "15  Acropora cervicornis  SRR7235993  PRJNA473816    USA: Florida    4494   \n",
       "17  Acropora cervicornis  SRR7235989  PRJNA473816  Virgin Islands    3358   \n",
       "18  Acropora cervicornis  SRR7236022  PRJNA473816  Virgin Islands    4232   \n",
       "19  Acropora cervicornis  SRR7236021  PRJNA473816  Virgin Islands    4247   \n",
       "20  Acropora cervicornis  SRR7235998  PRJNA473816  Virgin Islands    4580   \n",
       "\n",
       "    MBytes  \n",
       "0     1579  \n",
       "1     1655  \n",
       "2     1718  \n",
       "3     1811  \n",
       "4     2363  \n",
       "5     2481  \n",
       "6     1915  \n",
       "7     1979  \n",
       "8     2122  \n",
       "9     2332  \n",
       "10    2514  \n",
       "11    1449  \n",
       "12    1630  \n",
       "13    1926  \n",
       "14    2053  \n",
       "15    2263  \n",
       "17    1724  \n",
       "18    2102  \n",
       "19    2139  \n",
       "20    2273  "
      ]
     },
     "execution_count": 4,
     "metadata": {},
     "output_type": "execute_result"
    }
   ],
   "source": [
    "df = pd.read_csv(\"./SraRunTable.txt\", sep=\",\")\n",
    "df1=df[[\"Organism\", \"Run\", \"BioProject\", \"geo_loc_name\", \"MBases\",\"MBytes\"]]\n",
    "sortedacro = df1.sort_values(['Organism', 'geo_loc_name','MBases'])\n",
    "sortedacro=sortedacro.reset_index(drop=True)\n",
    "cervicornis1=sortedacro[0:21]\n",
    "removedraft=cervicornis1.index.isin([16])\n",
    "cervicornis=cervicornis1[~removedraft]\n",
    "cervicornis"
   ]
  },
  {
   "cell_type": "code",
   "execution_count": 5,
   "metadata": {},
   "outputs": [
    {
     "data": {
      "text/html": [
       "<div>\n",
       "<style scoped>\n",
       "    .dataframe tbody tr th:only-of-type {\n",
       "        vertical-align: middle;\n",
       "    }\n",
       "\n",
       "    .dataframe tbody tr th {\n",
       "        vertical-align: top;\n",
       "    }\n",
       "\n",
       "    .dataframe thead th {\n",
       "        text-align: right;\n",
       "    }\n",
       "</style>\n",
       "<table border=\"1\" class=\"dataframe\">\n",
       "  <thead>\n",
       "    <tr style=\"text-align: right;\">\n",
       "      <th></th>\n",
       "      <th>Organism</th>\n",
       "      <th>Run</th>\n",
       "      <th>BioProject</th>\n",
       "      <th>geo_loc_name</th>\n",
       "      <th>MBases</th>\n",
       "      <th>MBytes</th>\n",
       "    </tr>\n",
       "  </thead>\n",
       "  <tbody>\n",
       "    <tr>\n",
       "      <th>22</th>\n",
       "      <td>Acropora palmata</td>\n",
       "      <td>SRR7236016</td>\n",
       "      <td>PRJNA473816</td>\n",
       "      <td>Belize</td>\n",
       "      <td>3260</td>\n",
       "      <td>1622</td>\n",
       "    </tr>\n",
       "    <tr>\n",
       "      <th>23</th>\n",
       "      <td>Acropora palmata</td>\n",
       "      <td>SRR7236013</td>\n",
       "      <td>PRJNA473816</td>\n",
       "      <td>Belize</td>\n",
       "      <td>3349</td>\n",
       "      <td>1691</td>\n",
       "    </tr>\n",
       "    <tr>\n",
       "      <th>24</th>\n",
       "      <td>Acropora palmata</td>\n",
       "      <td>SRR7236019</td>\n",
       "      <td>PRJNA473816</td>\n",
       "      <td>Belize</td>\n",
       "      <td>3406</td>\n",
       "      <td>1716</td>\n",
       "    </tr>\n",
       "    <tr>\n",
       "      <th>25</th>\n",
       "      <td>Acropora palmata</td>\n",
       "      <td>SRR7236018</td>\n",
       "      <td>PRJNA473816</td>\n",
       "      <td>Belize</td>\n",
       "      <td>3798</td>\n",
       "      <td>1861</td>\n",
       "    </tr>\n",
       "    <tr>\n",
       "      <th>26</th>\n",
       "      <td>Acropora palmata</td>\n",
       "      <td>SRR7236015</td>\n",
       "      <td>PRJNA473816</td>\n",
       "      <td>Belize</td>\n",
       "      <td>3805</td>\n",
       "      <td>1906</td>\n",
       "    </tr>\n",
       "    <tr>\n",
       "      <th>27</th>\n",
       "      <td>Acropora palmata</td>\n",
       "      <td>SRR7236014</td>\n",
       "      <td>PRJNA473816</td>\n",
       "      <td>Belize</td>\n",
       "      <td>4188</td>\n",
       "      <td>2067</td>\n",
       "    </tr>\n",
       "    <tr>\n",
       "      <th>28</th>\n",
       "      <td>Acropora palmata</td>\n",
       "      <td>SRR7236017</td>\n",
       "      <td>PRJNA473816</td>\n",
       "      <td>Belize</td>\n",
       "      <td>4557</td>\n",
       "      <td>2296</td>\n",
       "    </tr>\n",
       "    <tr>\n",
       "      <th>29</th>\n",
       "      <td>Acropora palmata</td>\n",
       "      <td>SRR7236020</td>\n",
       "      <td>PRJNA473816</td>\n",
       "      <td>Belize</td>\n",
       "      <td>5499</td>\n",
       "      <td>2721</td>\n",
       "    </tr>\n",
       "    <tr>\n",
       "      <th>30</th>\n",
       "      <td>Acropora palmata</td>\n",
       "      <td>SRR7235987</td>\n",
       "      <td>PRJNA473816</td>\n",
       "      <td>Curacao</td>\n",
       "      <td>3095</td>\n",
       "      <td>1523</td>\n",
       "    </tr>\n",
       "    <tr>\n",
       "      <th>31</th>\n",
       "      <td>Acropora palmata</td>\n",
       "      <td>SRR7235985</td>\n",
       "      <td>PRJNA473816</td>\n",
       "      <td>Curacao</td>\n",
       "      <td>3350</td>\n",
       "      <td>1688</td>\n",
       "    </tr>\n",
       "    <tr>\n",
       "      <th>32</th>\n",
       "      <td>Acropora palmata</td>\n",
       "      <td>SRR7235986</td>\n",
       "      <td>PRJNA473816</td>\n",
       "      <td>Curacao</td>\n",
       "      <td>3624</td>\n",
       "      <td>1783</td>\n",
       "    </tr>\n",
       "    <tr>\n",
       "      <th>33</th>\n",
       "      <td>Acropora palmata</td>\n",
       "      <td>SRR7235981</td>\n",
       "      <td>PRJNA473816</td>\n",
       "      <td>Curacao</td>\n",
       "      <td>3651</td>\n",
       "      <td>1859</td>\n",
       "    </tr>\n",
       "    <tr>\n",
       "      <th>34</th>\n",
       "      <td>Acropora palmata</td>\n",
       "      <td>SRR7235988</td>\n",
       "      <td>PRJNA473816</td>\n",
       "      <td>Curacao</td>\n",
       "      <td>3825</td>\n",
       "      <td>1909</td>\n",
       "    </tr>\n",
       "    <tr>\n",
       "      <th>35</th>\n",
       "      <td>Acropora palmata</td>\n",
       "      <td>SRR7235984</td>\n",
       "      <td>PRJNA473816</td>\n",
       "      <td>Curacao</td>\n",
       "      <td>4083</td>\n",
       "      <td>2023</td>\n",
       "    </tr>\n",
       "    <tr>\n",
       "      <th>36</th>\n",
       "      <td>Acropora palmata</td>\n",
       "      <td>SRR7235982</td>\n",
       "      <td>PRJNA473816</td>\n",
       "      <td>Curacao</td>\n",
       "      <td>4617</td>\n",
       "      <td>2318</td>\n",
       "    </tr>\n",
       "    <tr>\n",
       "      <th>37</th>\n",
       "      <td>Acropora palmata</td>\n",
       "      <td>SRR7235980</td>\n",
       "      <td>PRJNA473816</td>\n",
       "      <td>USA: Florida</td>\n",
       "      <td>3061</td>\n",
       "      <td>1529</td>\n",
       "    </tr>\n",
       "    <tr>\n",
       "      <th>38</th>\n",
       "      <td>Acropora palmata</td>\n",
       "      <td>SRR7235979</td>\n",
       "      <td>PRJNA473816</td>\n",
       "      <td>USA: Florida</td>\n",
       "      <td>3487</td>\n",
       "      <td>1738</td>\n",
       "    </tr>\n",
       "    <tr>\n",
       "      <th>39</th>\n",
       "      <td>Acropora palmata</td>\n",
       "      <td>SRR7236011</td>\n",
       "      <td>PRJNA473816</td>\n",
       "      <td>USA: Florida</td>\n",
       "      <td>3789</td>\n",
       "      <td>1879</td>\n",
       "    </tr>\n",
       "    <tr>\n",
       "      <th>40</th>\n",
       "      <td>Acropora palmata</td>\n",
       "      <td>SRR7236012</td>\n",
       "      <td>PRJNA473816</td>\n",
       "      <td>USA: Florida</td>\n",
       "      <td>4171</td>\n",
       "      <td>2084</td>\n",
       "    </tr>\n",
       "    <tr>\n",
       "      <th>41</th>\n",
       "      <td>Acropora palmata</td>\n",
       "      <td>SRR7236001</td>\n",
       "      <td>PRJNA473816</td>\n",
       "      <td>USA: Florida</td>\n",
       "      <td>4302</td>\n",
       "      <td>2136</td>\n",
       "    </tr>\n",
       "    <tr>\n",
       "      <th>43</th>\n",
       "      <td>Acropora palmata</td>\n",
       "      <td>SRR7236010</td>\n",
       "      <td>PRJNA473816</td>\n",
       "      <td>Virgin Islands</td>\n",
       "      <td>3161</td>\n",
       "      <td>1591</td>\n",
       "    </tr>\n",
       "    <tr>\n",
       "      <th>44</th>\n",
       "      <td>Acropora palmata</td>\n",
       "      <td>SRR7236009</td>\n",
       "      <td>PRJNA473816</td>\n",
       "      <td>Virgin Islands</td>\n",
       "      <td>3300</td>\n",
       "      <td>1673</td>\n",
       "    </tr>\n",
       "    <tr>\n",
       "      <th>45</th>\n",
       "      <td>Acropora palmata</td>\n",
       "      <td>SRR7236002</td>\n",
       "      <td>PRJNA473816</td>\n",
       "      <td>Virgin Islands</td>\n",
       "      <td>3353</td>\n",
       "      <td>1664</td>\n",
       "    </tr>\n",
       "    <tr>\n",
       "      <th>46</th>\n",
       "      <td>Acropora palmata</td>\n",
       "      <td>SRR7236003</td>\n",
       "      <td>PRJNA473816</td>\n",
       "      <td>Virgin Islands</td>\n",
       "      <td>4034</td>\n",
       "      <td>2020</td>\n",
       "    </tr>\n",
       "    <tr>\n",
       "      <th>47</th>\n",
       "      <td>Acropora palmata</td>\n",
       "      <td>SRR7236007</td>\n",
       "      <td>PRJNA473816</td>\n",
       "      <td>Virgin Islands</td>\n",
       "      <td>4037</td>\n",
       "      <td>1993</td>\n",
       "    </tr>\n",
       "  </tbody>\n",
       "</table>\n",
       "</div>"
      ],
      "text/plain": [
       "            Organism         Run   BioProject    geo_loc_name  MBases  MBytes\n",
       "22  Acropora palmata  SRR7236016  PRJNA473816          Belize    3260    1622\n",
       "23  Acropora palmata  SRR7236013  PRJNA473816          Belize    3349    1691\n",
       "24  Acropora palmata  SRR7236019  PRJNA473816          Belize    3406    1716\n",
       "25  Acropora palmata  SRR7236018  PRJNA473816          Belize    3798    1861\n",
       "26  Acropora palmata  SRR7236015  PRJNA473816          Belize    3805    1906\n",
       "27  Acropora palmata  SRR7236014  PRJNA473816          Belize    4188    2067\n",
       "28  Acropora palmata  SRR7236017  PRJNA473816          Belize    4557    2296\n",
       "29  Acropora palmata  SRR7236020  PRJNA473816          Belize    5499    2721\n",
       "30  Acropora palmata  SRR7235987  PRJNA473816         Curacao    3095    1523\n",
       "31  Acropora palmata  SRR7235985  PRJNA473816         Curacao    3350    1688\n",
       "32  Acropora palmata  SRR7235986  PRJNA473816         Curacao    3624    1783\n",
       "33  Acropora palmata  SRR7235981  PRJNA473816         Curacao    3651    1859\n",
       "34  Acropora palmata  SRR7235988  PRJNA473816         Curacao    3825    1909\n",
       "35  Acropora palmata  SRR7235984  PRJNA473816         Curacao    4083    2023\n",
       "36  Acropora palmata  SRR7235982  PRJNA473816         Curacao    4617    2318\n",
       "37  Acropora palmata  SRR7235980  PRJNA473816    USA: Florida    3061    1529\n",
       "38  Acropora palmata  SRR7235979  PRJNA473816    USA: Florida    3487    1738\n",
       "39  Acropora palmata  SRR7236011  PRJNA473816    USA: Florida    3789    1879\n",
       "40  Acropora palmata  SRR7236012  PRJNA473816    USA: Florida    4171    2084\n",
       "41  Acropora palmata  SRR7236001  PRJNA473816    USA: Florida    4302    2136\n",
       "43  Acropora palmata  SRR7236010  PRJNA473816  Virgin Islands    3161    1591\n",
       "44  Acropora palmata  SRR7236009  PRJNA473816  Virgin Islands    3300    1673\n",
       "45  Acropora palmata  SRR7236002  PRJNA473816  Virgin Islands    3353    1664\n",
       "46  Acropora palmata  SRR7236003  PRJNA473816  Virgin Islands    4034    2020\n",
       "47  Acropora palmata  SRR7236007  PRJNA473816  Virgin Islands    4037    1993"
      ]
     },
     "execution_count": 5,
     "metadata": {},
     "output_type": "execute_result"
    }
   ],
   "source": [
    "palmata1=sortedacro[22:48]\n",
    "removedraft=palmata1.index.isin([42])\n",
    "palmata=palmata1[~removedraft]\n",
    "palmata"
   ]
  },
  {
   "cell_type": "code",
   "execution_count": null,
   "metadata": {},
   "outputs": [],
   "source": [
    "!mkdir -p ./mapped\n",
    "!mkdir -p ./mapped/cervicornis\n",
    "!mkdir -p ./mapped/palmata"
   ]
  },
  {
   "cell_type": "code",
   "execution_count": null,
   "metadata": {},
   "outputs": [],
   "source": [
    "for i in cervicornis[\"Run\"]:\n",
    "    cmd='ngm --no-progress --rg-id '+i+' --rg-sm '+i+' -t 12 \\\n",
    "            -r  ./references/Adig.fa \\\n",
    "            -1 ./fastqdump/cervicornis/'+i+'.sra_1.fastq.gz \\\n",
    "            -2 ./fastqdump/cervicornis/'+i+'.sra_2.fastq.gz \\\n",
    "            | samtools view -b -@ 12 -> ./mapped/cervicornis/'+i+'.rg.raw.bam'\n",
    "    os.system(cmd)"
   ]
  },
  {
   "cell_type": "code",
   "execution_count": null,
   "metadata": {},
   "outputs": [],
   "source": [
    "for i in palmata[\"Run\"]:\n",
    "    cmd='ngm --no-progress --rg-id '+i+' --rg-sm '+i+' -t 12 \\\n",
    "            -r  ./references/Adig.fa \\\n",
    "            -1 ./fastqdump/palmata/'+i+'.sra_1.fastq.gz \\\n",
    "            -2 ./fastqdump/palmata/'+i+'.sra_2.fastq.gz \\\n",
    "            | samtools view -b -@ 12 -> ./mapped/palmata/'+i+'.rg.raw.bam'\n",
    "    os.system(cmd)"
   ]
  },
  {
   "cell_type": "code",
   "execution_count": null,
   "metadata": {},
   "outputs": [],
   "source": []
  },
  {
   "cell_type": "code",
   "execution_count": null,
   "metadata": {},
   "outputs": [],
   "source": []
  },
  {
   "cell_type": "code",
   "execution_count": null,
   "metadata": {},
   "outputs": [],
   "source": []
  },
  {
   "cell_type": "code",
   "execution_count": null,
   "metadata": {},
   "outputs": [],
   "source": []
  },
  {
   "cell_type": "code",
   "execution_count": null,
   "metadata": {},
   "outputs": [],
   "source": []
  },
  {
   "cell_type": "code",
   "execution_count": null,
   "metadata": {},
   "outputs": [],
   "source": [
    "freebayes -f /moto/eaton/projects/macaques/refpapio/refpapio.fa \\\n",
    "    --genotype-qualities \\\n",
    "    /moto/eaton/projects/macaques/mapped/MT/ngmDRR002233.MT.mark.bam \\\n",
    "    /moto/eaton/projects/macaques/mapped/MT/ngmSRR1024051.MT.mark.bam \\\n",
    "    /moto/eaton/projects/macaques/mapped/MT/ngmSRR2981114.MT.mark.bam \\\n",
    "    /moto/eaton/projects/macaques/mapped/MT/ngmSRR2981139.MT.mark.bam \\\n",
    "    /moto/eaton/projects/macaques/mapped/MT/ngmSRR2981140.MT.mark.bam \\\n",
    "    /moto/eaton/projects/macaques/mapped/MT/ngmSRR4453966.MT.mark.bam \\\n",
    "    /moto/eaton/projects/macaques/mapped/MT/ngmSRR4454020.MT.mark.bam \\\n",
    "    /moto/eaton/projects/macaques/mapped/MT/ngmSRR4454026.MT.mark.bam \\\n",
    "    /moto/eaton/projects/macaques/mapped/MT/ngmSRR5628058.MT.mark.bam \\\n",
    "    /moto/eaton/projects/macaques/mapped/MT/ngmSRR5947292.MT.mark.bam \\\n",
    "    /moto/eaton/projects/macaques/mapped/MT/ngmSRR5947293.MT.mark.bam \\\n",
    "    /moto/eaton/projects/macaques/mapped/MT/ngmSRR5947294.MT.mark.bam \\\n",
    "    /moto/eaton/projects/macaques/mapped/MT/ngmSRR7588781.MT.mark.bam \\\n",
    "    /moto/eaton/projects/macaques/mapped/MT/ngmSRR8285768.MT.mark.bam \\\n",
    "    /moto/eaton/projects/macaques/mapped/MT/ngmfasno.MT.mark.bam \\\n",
    "    /moto/eaton/projects/macaques/mapped/MT/fasso.MT.mark.bam \\\n",
    "    /moto/eaton/projects/macaques/mapped/MT/ngmfuscata2.MT.mark.bam \\\n",
    "    /moto/eaton/projects/macaques/mapped/MT/ngmnemestrina2.MT.mark.bam \\\n",
    "    /moto/eaton/projects/macaques/mapped/MT/ngmsilenus.MT.mark.bam \\\n",
    "    /moto/eaton/projects/macaques/mapped/MT/ngmsylvanus.MT.mark.bam \\\n",
    "    >/moto/eaton/projects/macaques/mapped/MT/calls/MT_2.raw.vcf"
   ]
  },
  {
   "cell_type": "code",
   "execution_count": null,
   "metadata": {},
   "outputs": [],
   "source": [
    "freebayes-parallel <(fasta_generate_regions.py /moto/eaton/projects/macaques/refpapio/refpapio.fa 100000) 12 \\\n",
    "    -f /moto/eaton/projects/macaques/refpapio/refpapio.fa \\\n",
    "    /moto/eaton/projects/macaques/mapped/Chr19/ngmDRR002233.Chr19.mark.bam \\\n",
    "    /moto/eaton/projects/macaques/mapped/Chr19/ngmSRR1024051.Chr19.mark.bam \\\n",
    "    /moto/eaton/projects/macaques/mapped/Chr19/ngmSRR2981114.Chr19.mark.bam \\\n",
    "    /moto/eaton/projects/macaques/mapped/Chr19/ngmSRR2981139.Chr19.mark.bam \\\n",
    "    /moto/eaton/projects/macaques/mapped/Chr19/ngmSRR2981140.Chr19.mark.bam \\\n",
    "    /moto/eaton/projects/macaques/mapped/Chr19/ngmSRR4453966.Chr19.mark.bam \\\n",
    "    /moto/eaton/projects/macaques/mapped/Chr19/ngmSRR4454020.Chr19.mark.bam \\\n",
    "    /moto/eaton/projects/macaques/mapped/Chr19/ngmSRR4454026.Chr19.mark.bam \\\n",
    "    /moto/eaton/projects/macaques/mapped/Chr19/ngmSRR5628058.Chr19.mark.bam \\\n",
    "    /moto/eaton/projects/macaques/mapped/Chr19/ngmSRR5947292.Chr19.mark.bam \\\n",
    "    /moto/eaton/projects/macaques/mapped/Chr19/ngmSRR5947293.Chr19.mark.bam \\\n",
    "    /moto/eaton/projects/macaques/mapped/Chr19/ngmSRR5947294.Chr19.mark.bam \\\n",
    "    /moto/eaton/projects/macaques/mapped/Chr19/ngmSRR7588781.Chr19.mark.bam \\\n",
    "    /moto/eaton/projects/macaques/mapped/Chr19/ngmSRR8285768.Chr19.mark.bam \\\n",
    "    /moto/eaton/projects/macaques/mapped/Chr19/ngmfasno.Chr19.mark.bam \\\n",
    "    /moto/eaton/projects/macaques/mapped/Chr19/fasso.Chr19.mark.bam \\\n",
    "    /moto/eaton/projects/macaques/mapped/Chr19/ngmfuscata2.Chr19.mark.bam \\\n",
    "    /moto/eaton/projects/macaques/mapped/Chr19/ngmnemestrina2.Chr19.mark.bam \\\n",
    "    /moto/eaton/projects/macaques/mapped/Chr19/ngmsilenus.Chr19.mark.bam \\\n",
    "    /moto/eaton/projects/macaques/mapped/Chr19/ngmsylvanus.Chr19.mark.bam \\\n",
    "    >/moto/eaton/projects/macaques/mapped/Chr19/calls/Chr19_2.raw.vcf"
   ]
  },
  {
   "cell_type": "markdown",
   "metadata": {},
   "source": [
    "### A) Mapping and sorting northern _Macaca mulatta_:"
   ]
  },
  {
   "cell_type": "code",
   "execution_count": 4,
   "metadata": {},
   "outputs": [],
   "source": [
    "test=['SRR5628058', 'ngmfasno', 'ngmSRR2981139', 'ngmSRR1024051', 'ngmsilenus', 'ngmsylvanus']"
   ]
  },
  {
   "cell_type": "code",
   "execution_count": null,
   "metadata": {},
   "outputs": [],
   "source": [
    "##sorting mapped data\n",
    "for i in test:\n",
    "    cmd='sambamba sort -t 20 --tmpdir=/moto/eaton/projects/macaques/tmp/ \\\n",
    "            /moto/eaton/projects/macaques/mapped/'+i+'.raw.bam'\n",
    "    os.system(cmd)"
   ]
  },
  {
   "cell_type": "code",
   "execution_count": 2,
   "metadata": {},
   "outputs": [],
   "source": [
    "test=['ngmfasno']"
   ]
  },
  {
   "cell_type": "code",
   "execution_count": null,
   "metadata": {},
   "outputs": [],
   "source": [
    "##marking likely PCR duplicates\n",
    "for i in test:\n",
    "    cmd='sambamba markdup -t 20 -p --overflow-list-size 6000000 --hash-table-size 6000000 \\\n",
    "            --tmpdir=/moto/eaton/projects/macaques/tmp/ \\\n",
    "            /moto/eaton/projects/macaques/mapped/'+i+'.raw.sorted.bam \\\n",
    "            /moto/eaton/projects/macaques/mapped/'+i+'.mark.bam'\n",
    "    os.system(cmd)"
   ]
  },
  {
   "cell_type": "code",
   "execution_count": null,
   "metadata": {},
   "outputs": [],
   "source": [
    "test=['ngmSRR2981139', 'ngmSRR1024051', 'ngmsilenus', 'ngmsylvanus']"
   ]
  },
  {
   "cell_type": "code",
   "execution_count": null,
   "metadata": {},
   "outputs": [],
   "source": [
    "%%bash\n",
    "sambamba markdup -t 12 -p --overflow-list-size 6000000 --hash-table-size 6000000 \\\n",
    "            --tmpdir=/moto/eaton/projects/macaques/tmp/ \\\n",
    "            /moto/eaton/projects/macaques/mapped/fasso.rg.raw.bam \\\n",
    "            /moto/eaton/projects/macaques/mapped/fasso.mark.bam"
   ]
  },
  {
   "cell_type": "code",
   "execution_count": null,
   "metadata": {},
   "outputs": [],
   "source": [
    "for i in test:\n",
    "    cmd='sambamba markdup -t 20 -p --overflow-list-size 6000000 --hash-table-size 6000000 \\\n",
    "            --tmpdir=/moto/eaton/projects/macaques/tmp/ \\\n",
    "            /moto/eaton/projects/macaques/mapped/'+i+'.raw.sorted.bam \\\n",
    "            /moto/eaton/projects/macaques/mapped/'+i+'.mark.bam'\n",
    "    os.system(cmd)"
   ]
  },
  {
   "cell_type": "markdown",
   "metadata": {},
   "source": [
    "### B) Calling Variants with FreeBayes"
   ]
  },
  {
   "cell_type": "code",
   "execution_count": null,
   "metadata": {},
   "outputs": [],
   "source": [
    "##!conda install -c bioconda freebayes"
   ]
  },
  {
   "cell_type": "code",
   "execution_count": 2,
   "metadata": {},
   "outputs": [],
   "source": [
    "!mkdir /moto/eaton/projects/macaques/calls/"
   ]
  },
  {
   "cell_type": "code",
   "execution_count": 35,
   "metadata": {},
   "outputs": [],
   "source": [
    "test=['SRR5628058', 'ngmfasno', 'ngmSRR2981139', 'ngmSRR1024051', 'ngmsilenus', 'ngmsylvanus']"
   ]
  },
  {
   "cell_type": "code",
   "execution_count": 37,
   "metadata": {},
   "outputs": [],
   "source": [
    "!samtools addreplacerg -r 'ID:SRR5628058' -r 'SM:SRR5628058' \\\n",
    "        -o /moto/eaton/projects/macaques/mapped/SRR5628058.NC_018153.2.fixed.bam \\\n",
    "        /moto/eaton/projects/macaques/mapped/SRR5628058.NC_018153.2.mark.bam"
   ]
  },
  {
   "cell_type": "code",
   "execution_count": 38,
   "metadata": {},
   "outputs": [],
   "source": [
    "!samtools addreplacerg -r 'ID:ngmfasno' -r 'SM:ngmfasno' \\\n",
    "        -o /moto/eaton/projects/macaques/mapped/ngmfasno.NC_018153.2.fixed.bam \\\n",
    "        /moto/eaton/projects/macaques/mapped/ngmfasno.NC_018153.2.mark.bam"
   ]
  },
  {
   "cell_type": "code",
   "execution_count": 39,
   "metadata": {},
   "outputs": [],
   "source": [
    "!samtools addreplacerg -r 'ID:ngmSRR2981139' -r 'SM:ngmSRR2981139' \\\n",
    "        -o /moto/eaton/projects/macaques/mapped/ngmSRR2981139.NC_018153.2.fixed.bam \\\n",
    "        /moto/eaton/projects/macaques/mapped/ngmSRR2981139.NC_018153.2.mark.bam"
   ]
  },
  {
   "cell_type": "code",
   "execution_count": 40,
   "metadata": {},
   "outputs": [],
   "source": [
    "!samtools addreplacerg -r 'ID:ngmSRR1024051' -r 'SM:ngmSRR1024051' \\\n",
    "        -o /moto/eaton/projects/macaques/mapped/ngmSRR1024051.NC_018153.2.fixed.bam \\\n",
    "        /moto/eaton/projects/macaques/mapped/ngmSRR1024051.NC_018153.2.mark.bam"
   ]
  },
  {
   "cell_type": "code",
   "execution_count": 41,
   "metadata": {},
   "outputs": [],
   "source": [
    "!samtools addreplacerg -r 'ID:ngmsilenus' -r 'SM:ngmsilenus' \\\n",
    "        -o /moto/eaton/projects/macaques/mapped/ngmsilenus.NC_018153.2.fixed.bam \\\n",
    "        /moto/eaton/projects/macaques/mapped/ngmsilenus.NC_018153.2.mark.bam"
   ]
  },
  {
   "cell_type": "code",
   "execution_count": 42,
   "metadata": {},
   "outputs": [],
   "source": [
    "!samtools addreplacerg -r 'ID:ngmsylvanus' -r 'SM:ngmsylvanus' \\\n",
    "        -o /moto/eaton/projects/macaques/mapped/ngmsylvanus.NC_018153.2.fixed.bam \\\n",
    "        /moto/eaton/projects/macaques/mapped/ngmsylvanus.NC_018153.2.mark.bam"
   ]
  },
  {
   "cell_type": "code",
   "execution_count": 43,
   "metadata": {},
   "outputs": [],
   "source": [
    "%%bash\n",
    "for i in SRR5628058 ngmfasno ngmSRR2981139 ngmSRR1024051 ngmsilenus ngmsylvanus; do\n",
    "    samtools index /moto/eaton/projects/macaques/mapped/$i.NC_018153.2.fixed.bam\n",
    "    done"
   ]
  },
  {
   "cell_type": "code",
   "execution_count": 46,
   "metadata": {},
   "outputs": [
    {
     "name": "stdout",
     "output_type": "stream",
     "text": [
      "Process is interrupted.\n"
     ]
    }
   ],
   "source": [
    "%%bash\n",
    "freebayes-parallel <(fasta_generate_regions.py /moto/eaton/projects/macaques/refpapio/refpapio.fa 100000) 22 \\\n",
    "    -f /moto/eaton/projects/macaques/refpapio/refpapio.fa \\\n",
    "    /moto/eaton/projects/macaques/mapped/SRR5628058.NC_018153.2.fixed.bam \\\n",
    "    /moto/eaton/projects/macaques/mapped/ngmfasno.NC_018153.2.fixed.bam \\\n",
    "    /moto/eaton/projects/macaques/mapped/ngmSRR2981139.NC_018153.2.fixed.bam \\\n",
    "    /moto/eaton/projects/macaques/mapped/ngmSRR1024051.NC_018153.2.fixed.bam \\\n",
    "    /moto/eaton/projects/macaques/mapped/ngmsilenus.NC_018153.2.fixed.bam \\\n",
    "    /moto/eaton/projects/macaques/mapped/ngmsylvanus.NC_018153.2.fixed.bam \\\n",
    "    >/moto/eaton/projects/macaques/calls/test.chr2.vcf"
   ]
  },
  {
   "cell_type": "code",
   "execution_count": null,
   "metadata": {},
   "outputs": [],
   "source": []
  },
  {
   "cell_type": "code",
   "execution_count": null,
   "metadata": {},
   "outputs": [],
   "source": []
  },
  {
   "cell_type": "code",
   "execution_count": null,
   "metadata": {},
   "outputs": [],
   "source": []
  },
  {
   "cell_type": "code",
   "execution_count": null,
   "metadata": {},
   "outputs": [],
   "source": []
  },
  {
   "cell_type": "markdown",
   "metadata": {},
   "source": [
    "Finding what are the names of the scaffolds that reads were mapped to:"
   ]
  },
  {
   "cell_type": "code",
   "execution_count": 6,
   "metadata": {},
   "outputs": [
    {
     "name": "stdout",
     "output_type": "stream",
     "text": [
      "NC_018152.2\n",
      "NC_018153.2\n",
      "NC_018154.2\n",
      "NC_018155.2\n",
      "NC_018156.2\n",
      "NC_018157.2\n",
      "NC_018158.2\n",
      "NC_018159.2\n",
      "NC_018160.2\n",
      "NC_018161.2\n",
      "NC_018162.2\n",
      "NC_018163.2\n",
      "NC_018164.2\n",
      "NC_018165.2\n",
      "NC_018166.2\n",
      "NC_018167.2\n",
      "NC_018168.2\n",
      "NC_018169.2\n",
      "NC_018170.2\n",
      "NC_018171.2\n",
      "NC_018172.2\n",
      "NW_018761063.1\n",
      "cut: write error: Broken pipe\n"
     ]
    }
   ],
   "source": [
    "!samtools idxstats /moto/eaton/projects/macaques/mapped/ngmfasno.mark.bam \\\n",
    "    | cut -f 1 | head -22"
   ]
  },
  {
   "cell_type": "markdown",
   "metadata": {},
   "source": [
    "Splitting by chromosome (NC_* is chromosome or mitochondria and NW_* is unassigned, so we just need the NC names):"
   ]
  },
  {
   "cell_type": "code",
   "execution_count": 4,
   "metadata": {},
   "outputs": [],
   "source": [
    "test=['SRR5628058', 'ngmfasno', 'ngmSRR2981139', 'ngmSRR1024051', 'ngmsilenus', 'ngmsylvanus']"
   ]
  },
  {
   "cell_type": "code",
   "execution_count": 2,
   "metadata": {},
   "outputs": [],
   "source": [
    "!mkdir /moto/eaton/projects/macaques/mapped/MT"
   ]
  },
  {
   "cell_type": "code",
   "execution_count": 1,
   "metadata": {},
   "outputs": [
    {
     "name": "stdout",
     "output_type": "stream",
     "text": [
      "/moto/eaton/projects/macaques/mapped/ngmDRR002233.rg.raw.sorted.bam\n",
      "/moto/eaton/projects/macaques/mapped/ngmSRR1024051.rg.raw.sorted.bam\n",
      "/moto/eaton/projects/macaques/mapped/ngmSRR2981114.rg.raw.sorted.bam\n",
      "/moto/eaton/projects/macaques/mapped/ngmSRR2981139.rg.raw.sorted.bam\n",
      "/moto/eaton/projects/macaques/mapped/ngmSRR2981140.rg.raw.sorted.bam\n",
      "/moto/eaton/projects/macaques/mapped/ngmSRR4453966.rg.raw.sorted.bam\n",
      "/moto/eaton/projects/macaques/mapped/ngmSRR4454020.rg.raw.sorted.bam\n",
      "/moto/eaton/projects/macaques/mapped/ngmSRR4454026.rg.raw.sorted.bam\n",
      "/moto/eaton/projects/macaques/mapped/ngmSRR5628058.rg.raw.sorted.bam\n",
      "/moto/eaton/projects/macaques/mapped/ngmSRR5947292.rg.raw.sorted.bam\n",
      "/moto/eaton/projects/macaques/mapped/ngmSRR5947293.rg.raw.sorted.bam\n",
      "/moto/eaton/projects/macaques/mapped/ngmSRR5947294.rg.raw.sorted.bam\n",
      "/moto/eaton/projects/macaques/mapped/ngmSRR7588781.rg.raw.sorted.bam\n",
      "/moto/eaton/projects/macaques/mapped/ngmSRR8285768.rg.raw.sorted.bam\n",
      "/moto/eaton/projects/macaques/mapped/ngmfasno.rg.raw.sorted.bam\n",
      "/moto/eaton/projects/macaques/mapped/ngmfasso.rg.raw.sorted.bam\n",
      "/moto/eaton/projects/macaques/mapped/ngmfuscata2.rg.raw.sorted.bam\n",
      "/moto/eaton/projects/macaques/mapped/ngmnemestrina2.rg.raw.sorted.bam\n",
      "/moto/eaton/projects/macaques/mapped/ngmsilenus.rg.raw.sorted.bam\n",
      "/moto/eaton/projects/macaques/mapped/ngmsylvanus.rg.raw.sorted.bam\n"
     ]
    }
   ],
   "source": [
    "%%bash\n",
    "for i in ngmDRR002233 ngmSRR1024051 ngmSRR2981114 ngmSRR2981139 ngmSRR2981140 ngmSRR4453966 ngmSRR4454020 ngmSRR4454026 ngmSRR5628058 ngmSRR5947292 ngmSRR5947293 ngmSRR5947294 ngmSRR7588781 ngmSRR8285768 ngmfasno ngmfasso ngmfuscata2 ngmnemestrina2 ngmsilenus ngmsylvanus; do\n",
    "    samtools view -b -@ 12 /moto/eaton/projects/macaques/mapped/$i.rg.raw.sorted.bam NC_020006.2 > \\\n",
    "        /moto/eaton/projects/macaques/mapped/MT/$i.MT.bam\n",
    "    done"
   ]
  },
  {
   "cell_type": "code",
   "execution_count": 5,
   "metadata": {},
   "outputs": [],
   "source": [
    "for i in test:\n",
    "    cmd='samtools view -@ 7 \\\n",
    "            /moto/eaton/projects/macaques/mapped/'+i+'.mark.bam NC_018153.2 -b > \\\n",
    "            /moto/eaton/projects/macaques/mapped/'+i+'.NC_018153.2.bam'\n",
    "    os.system(cmd)"
   ]
  },
  {
   "cell_type": "code",
   "execution_count": 6,
   "metadata": {},
   "outputs": [],
   "source": [
    "for i in test:\n",
    "    cmd='sambamba sort -t 20 --tmpdir=/moto/eaton/projects/macaques/tmp/ \\\n",
    "            /moto/eaton/projects/macaques/mapped/'+i+'.NC_018153.2.bam'\n",
    "    os.system(cmd)"
   ]
  },
  {
   "cell_type": "code",
   "execution_count": 7,
   "metadata": {},
   "outputs": [],
   "source": [
    "for i in test:\n",
    "    cmd='sambamba markdup -t 20 -p --overflow-list-size 6000000 --hash-table-size 6000000 \\\n",
    "            --tmpdir=/moto/eaton/projects/macaques/tmp/ \\\n",
    "            /moto/eaton/projects/macaques/mapped/'+i+'.NC_018153.2.sorted.bam \\\n",
    "            /moto/eaton/projects/macaques/mapped/'+i+'.NC_018153.2.mark.bam'\n",
    "    os.system(cmd)"
   ]
  },
  {
   "cell_type": "code",
   "execution_count": null,
   "metadata": {},
   "outputs": [],
   "source": []
  },
  {
   "cell_type": "code",
   "execution_count": null,
   "metadata": {},
   "outputs": [],
   "source": []
  },
  {
   "cell_type": "code",
   "execution_count": null,
   "metadata": {},
   "outputs": [],
   "source": []
  },
  {
   "cell_type": "code",
   "execution_count": null,
   "metadata": {},
   "outputs": [],
   "source": [
    "%%bash\n",
    "for i in NC_018152.2 NC_018153.2 NC_018154.2; do\n",
    "    samtools view \\\n",
    "        /moto/eaton/projects/macaques/mulattanorthern/filtercall/mulattanorthern.SRR4454026.raw.minimap2.sorted.bam $i -b > \\\n",
    "        /moto/eaton/projects/macaques/mulattanorthern/filtercall/mulattanorthern.$i.bam\n"
   ]
  },
  {
   "cell_type": "code",
   "execution_count": null,
   "metadata": {},
   "outputs": [],
   "source": [
    "%%bash\n",
    "for i in NC_018152.2 NC_018153.2 NC_018154.2 NC_018155.2 NC_018156.2 NC_018157.2 NC_018158.2 NC_018159.2 NC_018160.2 NC_018161.2 NC_018162.2 NC_018163.2 NC_018164.2 NC_018165.2 NC_018166.2 NC_018167.2 NC_018168.2 NC_018169.2 NC_018170.2 NC_018171.2 NC_018172.2 NC_020006.2; do\n",
    "    sambamba sort -t 24 -p --tmpdir=/moto/eaton/projects/macaques/mulattanorthern/filtercall/ \\\n",
    "        /moto/eaton/projects/macaques/mulattanorthern/filtercall/mulattanorthern.$i.bam\n",
    "done"
   ]
  },
  {
   "cell_type": "code",
   "execution_count": null,
   "metadata": {},
   "outputs": [],
   "source": [
    "%%bash\n",
    "for i in NC_018152.2 NC_018153.2 NC_018154.2 NC_018155.2 NC_018156.2 NC_018157.2 NC_018158.2 NC_018159.2 NC_018160.2 NC_018161.2 NC_018162.2 NC_018163.2 NC_018164.2 NC_018165.2 NC_018166.2 NC_018167.2 NC_018168.2 NC_018169.2 NC_018170.2 NC_018171.2 NC_018172.2 NC_020006.2; do\n",
    "    sambamba markdup -t 24 -p --tmpdir=/moto/eaton/projects/macaques/mulattanorthern/filtercall/ \\\n",
    "        /moto/eaton/projects/macaques/mulattanorthern/filtercall/mulattanorthern.$i.sorted.bam \\\n",
    "        /moto/eaton/projects/macaques/mulattanorthern/filtercall/mulattanorthern.$i.ready.bam\n",
    "done"
   ]
  },
  {
   "cell_type": "code",
   "execution_count": 2,
   "metadata": {},
   "outputs": [],
   "source": [
    "!mkdir /moto/eaton/projects/macaques/MAPPEDANDSORTED"
   ]
  },
  {
   "cell_type": "code",
   "execution_count": 3,
   "metadata": {},
   "outputs": [],
   "source": [
    "##moving our mapped and sorted reads, separated by chromosome/mitochondria, to a staging directory\n",
    "!mv /moto/eaton/projects/macaques/mulattanorthern/filtercall/*.ready.* \\\n",
    "    /moto/eaton/projects/macaques/MAPPEDANDSORTED"
   ]
  },
  {
   "cell_type": "code",
   "execution_count": null,
   "metadata": {},
   "outputs": [],
   "source": []
  },
  {
   "cell_type": "code",
   "execution_count": null,
   "metadata": {},
   "outputs": [],
   "source": []
  },
  {
   "cell_type": "markdown",
   "metadata": {},
   "source": [
    "### B) Mapping and sorting southern, low altitude _Macaca mulatta_:"
   ]
  },
  {
   "cell_type": "code",
   "execution_count": 4,
   "metadata": {},
   "outputs": [],
   "source": [
    "!mkdir /moto/eaton/projects/macaques/mulattasouthernlow/filtercall"
   ]
  },
  {
   "cell_type": "code",
   "execution_count": null,
   "metadata": {},
   "outputs": [],
   "source": [
    "%time !minimap2 -ax sr -t 24 /moto/eaton/projects/macaques/refpapio/refpapio.fa \\\n",
    "    /moto/eaton/projects/macaques/TRIM/mulattasouthernlowSRR4454020_1.fastq.gz \\\n",
    "    /moto/eaton/projects/macaques/TRIM/mulattasouthernlowSRR4454020_2.fastq.gz \\\n",
    "    | samtools view -b -> /moto/eaton/projects/macaques/mulattasouthernlow/filtercall/mulattasouthernlow.SRR4454020.raw.minimap2.bam"
   ]
  },
  {
   "cell_type": "code",
   "execution_count": 6,
   "metadata": {},
   "outputs": [
    {
     "name": "stdout",
     "output_type": "stream",
     "text": [
      "\n",
      "sambamba 0.6.8 by Artem Tarasov and Pjotr Prins (C) 2012-2018\n",
      "    LDC 1.11.0 / DMD v2.081.2 / LLVM6.0.1 / bootstrap LDC - the LLVM D compiler (0.17.6git-0156298)\n",
      "\n",
      "Writing sorted chunks to temporary directory...\n",
      "[==============================================================================]\n",
      "Merging sorted chunks...\n",
      "[==============================================================================]\n",
      "CPU times: user 14.1 s, sys: 869 ms, total: 14.9 s\n",
      "Wall time: 5min 28s\n"
     ]
    }
   ],
   "source": [
    "%time !sambamba sort -t 24 -p --tmpdir=/moto/eaton/projects/macaques/mulattasouthernlow/filtercall/ \\\n",
    "    /moto/eaton/projects/macaques/mulattasouthernlow/filtercall/mulattasouthernlow.SRR4454020.raw.minimap2.bam"
   ]
  },
  {
   "cell_type": "code",
   "execution_count": 10,
   "metadata": {},
   "outputs": [],
   "source": [
    "%%bash\n",
    "for i in NC_018152.2 NC_018153.2 NC_018154.2 NC_018155.2 NC_018156.2 NC_018157.2 NC_018158.2 NC_018159.2 NC_018160.2 NC_018161.2 NC_018162.2 NC_018163.2 NC_018164.2 NC_018165.2 NC_018166.2 NC_018167.2 NC_018168.2 NC_018169.2 NC_018170.2 NC_018171.2 NC_018172.2 NC_020006.2; do\n",
    "    samtools view \\\n",
    "        /moto/eaton/projects/macaques/mulattasouthernlow/filtercall/mulattasouthernlow.SRR4454020.raw.minimap2.sorted.bam $i -b > \\\n",
    "        /moto/eaton/projects/macaques/mulattasouthernlow/filtercall/mulattasouthernlow.$i.bam\n",
    "done"
   ]
  },
  {
   "cell_type": "code",
   "execution_count": null,
   "metadata": {},
   "outputs": [],
   "source": [
    "%%bash\n",
    "for i in NC_018152.2 NC_018153.2 NC_018154.2 NC_018155.2 NC_018156.2 NC_018157.2 NC_018158.2 NC_018159.2 NC_018160.2 NC_018161.2 NC_018162.2 NC_018163.2 NC_018164.2 NC_018165.2 NC_018166.2 NC_018167.2 NC_018168.2 NC_018169.2 NC_018170.2 NC_018171.2 NC_018172.2 NC_020006.2; do\n",
    "    sambamba sort -t 24 -p --tmpdir=/moto/eaton/projects/macaques/mulattasouthernlow/filtercall/ \\\n",
    "        /moto/eaton/projects/macaques/mulattasouthernlow/filtercall/mulattasouthernlow.$i.bam\n",
    "done"
   ]
  },
  {
   "cell_type": "code",
   "execution_count": null,
   "metadata": {},
   "outputs": [],
   "source": [
    "%%bash\n",
    "for i in NC_018152.2 NC_018153.2 NC_018154.2 NC_018155.2 NC_018156.2 NC_018157.2 NC_018158.2 NC_018159.2 NC_018160.2 NC_018161.2 NC_018162.2 NC_018163.2 NC_018164.2 NC_018165.2 NC_018166.2 NC_018167.2 NC_018168.2 NC_018169.2 NC_018170.2 NC_018171.2 NC_018172.2 NC_020006.2; do\n",
    "    sambamba markdup -t 24 -p --tmpdir=/moto/eaton/projects/macaques/mulattasouthernlow/filtercall/ \\\n",
    "        /moto/eaton/projects/macaques/mulattasouthernlow/filtercall/mulattasouthernlow.$i.sorted.bam \\\n",
    "        /moto/eaton/projects/macaques/mulattasouthernlow/filtercall/mulattasouthernlow.$i.ready.bam\n",
    "done"
   ]
  },
  {
   "cell_type": "code",
   "execution_count": 13,
   "metadata": {},
   "outputs": [],
   "source": [
    "!mv /moto/eaton/projects/macaques/mulattasouthernlow/filtercall/*.ready.* \\\n",
    "    /moto/eaton/projects/macaques/MAPPEDANDSORTED"
   ]
  },
  {
   "cell_type": "markdown",
   "metadata": {},
   "source": [
    "### C) Mapping and sorting southern, high altitude _Macaca mulatta_:"
   ]
  },
  {
   "cell_type": "code",
   "execution_count": 14,
   "metadata": {},
   "outputs": [],
   "source": [
    "!mkdir /moto/eaton/projects/macaques/mulattasouthernhigh/filtercall"
   ]
  },
  {
   "cell_type": "code",
   "execution_count": null,
   "metadata": {},
   "outputs": [],
   "source": [
    "%time !minimap2 -ax sr -t 24 /moto/eaton/projects/macaques/refpapio/refpapio.fa \\\n",
    "    /moto/eaton/projects/macaques/TRIM/mulattasouthernhighSRR4453966_1.fastq.gz \\\n",
    "    /moto/eaton/projects/macaques/TRIM/mulattasouthernhighSRR4453966_2.fastq.gz \\\n",
    "    | samtools view -b -> /moto/eaton/projects/macaques/mulattasouthernhigh/filtercall/mulattasouthernhigh.SRR4453966.raw.minimap2.bam"
   ]
  },
  {
   "cell_type": "code",
   "execution_count": 16,
   "metadata": {},
   "outputs": [
    {
     "name": "stdout",
     "output_type": "stream",
     "text": [
      "\n",
      "sambamba 0.6.8 by Artem Tarasov and Pjotr Prins (C) 2012-2018\n",
      "    LDC 1.11.0 / DMD v2.081.2 / LLVM6.0.1 / bootstrap LDC - the LLVM D compiler (0.17.6git-0156298)\n",
      "\n",
      "Writing sorted chunks to temporary directory...\n",
      "[==============================================================================]=========================>                                                 ]\n",
      "Merging sorted chunks...\n",
      "[==============================================================================]=============================================>             ]\n",
      "CPU times: user 16.7 s, sys: 1.01 s, total: 17.7 s\n",
      "Wall time: 6min 16s\n"
     ]
    }
   ],
   "source": [
    "%time !sambamba sort -t 24 -p --tmpdir=/moto/eaton/projects/macaques/mulattasouthernhigh/filtercall/ \\\n",
    "    /moto/eaton/projects/macaques/mulattasouthernhigh/filtercall/mulattasouthernhigh.SRR4453966.raw.minimap2.bam"
   ]
  },
  {
   "cell_type": "code",
   "execution_count": 17,
   "metadata": {},
   "outputs": [],
   "source": [
    "%%bash\n",
    "for i in NC_018152.2 NC_018153.2 NC_018154.2 NC_018155.2 NC_018156.2 NC_018157.2 NC_018158.2 NC_018159.2 NC_018160.2 NC_018161.2 NC_018162.2 NC_018163.2 NC_018164.2 NC_018165.2 NC_018166.2 NC_018167.2 NC_018168.2 NC_018169.2 NC_018170.2 NC_018171.2 NC_018172.2 NC_020006.2; do\n",
    "    samtools view \\\n",
    "        /moto/eaton/projects/macaques/mulattasouthernhigh/filtercall/mulattasouthernhigh.SRR4453966.raw.minimap2.sorted.bam $i -b > \\\n",
    "        /moto/eaton/projects/macaques/mulattasouthernhigh/filtercall/mulattasouthernhigh.$i.bam\n",
    "done"
   ]
  },
  {
   "cell_type": "code",
   "execution_count": null,
   "metadata": {},
   "outputs": [],
   "source": [
    "%%bash\n",
    "for i in NC_018152.2 NC_018153.2 NC_018154.2 NC_018155.2 NC_018156.2 NC_018157.2 NC_018158.2 NC_018159.2 NC_018160.2 NC_018161.2 NC_018162.2 NC_018163.2 NC_018164.2 NC_018165.2 NC_018166.2 NC_018167.2 NC_018168.2 NC_018169.2 NC_018170.2 NC_018171.2 NC_018172.2 NC_020006.2; do\n",
    "    sambamba sort -t 24 -p --tmpdir=/moto/eaton/projects/macaques/mulattasouthernhigh/filtercall/ \\\n",
    "        /moto/eaton/projects/macaques/mulattasouthernhigh/filtercall/mulattasouthernhigh.$i.bam\n",
    "done"
   ]
  },
  {
   "cell_type": "code",
   "execution_count": 19,
   "metadata": {},
   "outputs": [
    {
     "name": "stdout",
     "output_type": "stream",
     "text": [
      "Process is interrupted.\n"
     ]
    }
   ],
   "source": [
    "%%bash\n",
    "for i in NC_018152.2 NC_018153.2 NC_018154.2 NC_018155.2 NC_018156.2 NC_018157.2 NC_018158.2 NC_018159.2 NC_018160.2 NC_018161.2 NC_018162.2 NC_018163.2 NC_018164.2 NC_018165.2 NC_018166.2 NC_018167.2 NC_018168.2 NC_018169.2 NC_018170.2 NC_018171.2 NC_018172.2 NC_020006.2; do\n",
    "    sambamba markdup -t 24 -p --tmpdir=/moto/eaton/projects/macaques/mulattasouthernhigh/filtercall/ \\\n",
    "        /moto/eaton/projects/macaques/mulattasouthernhigh/filtercall/mulattasouthernhigh.$i.sorted.bam \\\n",
    "        /moto/eaton/projects/macaques/mulattasouthernhigh/filtercall/mulattasouthernhigh.$i.ready.bam\n",
    "done"
   ]
  },
  {
   "cell_type": "code",
   "execution_count": null,
   "metadata": {},
   "outputs": [],
   "source": [
    "!mv /moto/eaton/projects/macaques/mulattasouthernhigh/filtercall/*.ready.* \\\n",
    "    /moto/eaton/projects/macaques/MAPPEDANDSORTED"
   ]
  },
  {
   "cell_type": "code",
   "execution_count": null,
   "metadata": {},
   "outputs": [],
   "source": []
  },
  {
   "cell_type": "code",
   "execution_count": null,
   "metadata": {},
   "outputs": [],
   "source": []
  },
  {
   "cell_type": "code",
   "execution_count": null,
   "metadata": {},
   "outputs": [],
   "source": []
  },
  {
   "cell_type": "code",
   "execution_count": null,
   "metadata": {},
   "outputs": [],
   "source": []
  },
  {
   "cell_type": "code",
   "execution_count": null,
   "metadata": {},
   "outputs": [],
   "source": []
  },
  {
   "cell_type": "code",
   "execution_count": null,
   "metadata": {},
   "outputs": [],
   "source": []
  },
  {
   "cell_type": "code",
   "execution_count": null,
   "metadata": {},
   "outputs": [],
   "source": []
  },
  {
   "cell_type": "code",
   "execution_count": null,
   "metadata": {},
   "outputs": [],
   "source": []
  },
  {
   "cell_type": "code",
   "execution_count": null,
   "metadata": {},
   "outputs": [],
   "source": []
  },
  {
   "cell_type": "code",
   "execution_count": null,
   "metadata": {},
   "outputs": [],
   "source": []
  },
  {
   "cell_type": "code",
   "execution_count": null,
   "metadata": {},
   "outputs": [],
   "source": []
  },
  {
   "cell_type": "code",
   "execution_count": null,
   "metadata": {},
   "outputs": [],
   "source": []
  },
  {
   "cell_type": "markdown",
   "metadata": {},
   "source": [
    "#### SAM to BAM conversion and sorting reads:"
   ]
  },
  {
   "cell_type": "code",
   "execution_count": null,
   "metadata": {},
   "outputs": [],
   "source": []
  },
  {
   "cell_type": "code",
   "execution_count": 6,
   "metadata": {},
   "outputs": [
    {
     "name": "stdout",
     "output_type": "stream",
     "text": [
      "CPU times: user 23.8 s, sys: 3.48 s, total: 27.3 s\n",
      "Wall time: 21min 13s\n"
     ]
    }
   ],
   "source": [
    "%time !samtools view -S -b results.sam > sample.bam ##simple conversion to bam appx 21 min on a 12 thread desktop w/ 16gb ram, not bad"
   ]
  },
  {
   "cell_type": "code",
   "execution_count": 7,
   "metadata": {},
   "outputs": [
    {
     "name": "stdout",
     "output_type": "stream",
     "text": [
      "[bam_sort_core] merging from 53 files and 1 in-memory blocks...\n",
      "CPU times: user 28.7 s, sys: 3.85 s, total: 32.6 s\n",
      "Wall time: 25min 41s\n"
     ]
    }
   ],
   "source": [
    "%time !samtools sort sample.bam -o sample.sorted.bam ##sorting bam file into genome order ~26mins"
   ]
  },
  {
   "cell_type": "code",
   "execution_count": 14,
   "metadata": {},
   "outputs": [
    {
     "name": "stdout",
     "output_type": "stream",
     "text": [
      "CPU times: user 2.36 s, sys: 363 ms, total: 2.73 s\n",
      "Wall time: 1min 57s\n"
     ]
    }
   ],
   "source": [
    "%time !samtools index sample.sorted.bam ##of course this will all be piped together..."
   ]
  },
  {
   "cell_type": "code",
   "execution_count": 1,
   "metadata": {},
   "outputs": [
    {
     "name": "stdout",
     "output_type": "stream",
     "text": [
      "SRR445694~125200.sra.858593\t99\tNC_027893.1\t1\t60\t5S95M\t=\t294\t393\tAAGGCCATGGAAACAAGGAAAGTCTGAAAAACTCACAGTTTAGGAACCTAAAGAGACTTGACTACTAAATGGAATATATCTTGGGATCCTGGAAAAGAAA\tCCCFFFFFHHHHHIIIIIIIIIHIIIIIIIIIIIIIIIHIIIIIIIIIIIIIIIIIIIIIIIIIIIIIIIIIHFHHHHFFFFFFDDDDCCCDBCCDDBDD\tAS:i:950\tNM:i:0\tNH:i:0\tXI:f:1\tX0:i:0\tXE:i:28\tXR:i:95\tMD:Z:95\n",
      "samtools view: writing to standard output failed: Broken pipe\n",
      "samtools view: error closing standard output: -1\n",
      "CPU times: user 5.74 ms, sys: 7.92 ms, total: 13.7 ms\n",
      "Wall time: 224 ms\n"
     ]
    }
   ],
   "source": [
    "%time !samtools view sample.sorted.bam | head -n 1 ##We see that instead of giving chromosomes logical names like Chr1, Chr2, etc., the reference genome has strange names for chromosomes (NC_027893.1, etc)..."
   ]
  },
  {
   "cell_type": "code",
   "execution_count": 3,
   "metadata": {},
   "outputs": [
    {
     "name": "stdout",
     "output_type": "stream",
     "text": [
      "CPU times: user 1.19 s, sys: 147 ms, total: 1.34 s\n",
      "Wall time: 58.6 s\n"
     ]
    }
   ],
   "source": [
    "%time !samtools view -h -b sample.sorted.bam NC_027893.1 > chr1.bam ##Which makes splitting files up for chromosome-level analyses a bit more annoying but not too bad...I'll make a bash script"
   ]
  },
  {
   "cell_type": "markdown",
   "metadata": {},
   "source": [
    "Pipe from NGM to samtools with an output of a sorted bam file:"
   ]
  },
  {
   "cell_type": "code",
   "execution_count": null,
   "metadata": {},
   "outputs": [],
   "source": [
    "!ngm -r ./reference-genome/Mmul8.fna.gz -1 out.R1.fq.gz -2 out.R2.fq.gz | samtools view -S -b | samtools sort -o sample.sorted.bam"
   ]
  },
  {
   "cell_type": "markdown",
   "metadata": {},
   "source": [
    "#### Variant calling:"
   ]
  },
  {
   "cell_type": "code",
   "execution_count": null,
   "metadata": {},
   "outputs": [],
   "source": [
    "!freebayes -f ./reference-genome/Mmul8.fna.gz sample.sorted.bam >wholegenome.vcf ##example code for variant calling on entire genome. Can be split by chromosome/region using -r "
   ]
  }
 ],
 "metadata": {
  "kernelspec": {
   "display_name": "Python 3",
   "language": "python",
   "name": "python3"
  },
  "language_info": {
   "codemirror_mode": {
    "name": "ipython",
    "version": 3
   },
   "file_extension": ".py",
   "mimetype": "text/x-python",
   "name": "python",
   "nbconvert_exporter": "python",
   "pygments_lexer": "ipython3",
   "version": "3.7.0"
  }
 },
 "nbformat": 4,
 "nbformat_minor": 2
}
